{
 "cells": [
  {
   "cell_type": "markdown",
   "id": "eb40802c-44b1-414f-9517-cccbcea17a82",
   "metadata": {},
   "source": [
    "In this notebook I compare different regression models to predict column `salary_usd`\t"
   ]
  },
  {
   "cell_type": "code",
   "execution_count": 321,
   "id": "4ff22fa8-17d2-421f-9145-797ff232bc3a",
   "metadata": {},
   "outputs": [],
   "source": [
    "import numpy as np\n",
    "import pandas as pd\n",
    "import matplotlib.pyplot as plt\n",
    "import seaborn as sns"
   ]
  },
  {
   "cell_type": "markdown",
   "id": "242a7f9e-67b0-45c7-a74d-e35e86b32b52",
   "metadata": {},
   "source": [
    "### How processed data looks like:"
   ]
  },
  {
   "cell_type": "code",
   "execution_count": 324,
   "id": "b30d53b6-47c4-4020-8bb3-5d35fa8b7f9a",
   "metadata": {},
   "outputs": [
    {
     "data": {
      "text/html": [
       "<div>\n",
       "<style scoped>\n",
       "    .dataframe tbody tr th:only-of-type {\n",
       "        vertical-align: middle;\n",
       "    }\n",
       "\n",
       "    .dataframe tbody tr th {\n",
       "        vertical-align: top;\n",
       "    }\n",
       "\n",
       "    .dataframe thead th {\n",
       "        text-align: right;\n",
       "    }\n",
       "</style>\n",
       "<table border=\"1\" class=\"dataframe\">\n",
       "  <thead>\n",
       "    <tr style=\"text-align: right;\">\n",
       "      <th></th>\n",
       "      <th>salary_usd</th>\n",
       "      <th>job_title</th>\n",
       "      <th>salary_local</th>\n",
       "      <th>experience_level</th>\n",
       "      <th>company_location</th>\n",
       "      <th>company_size</th>\n",
       "      <th>employee_residence</th>\n",
       "      <th>remote_ratio</th>\n",
       "      <th>education_required</th>\n",
       "      <th>years_experience</th>\n",
       "      <th>...</th>\n",
       "      <th>NLP</th>\n",
       "      <th>PyTorch</th>\n",
       "      <th>Python</th>\n",
       "      <th>R</th>\n",
       "      <th>SQL</th>\n",
       "      <th>Scala</th>\n",
       "      <th>Spark</th>\n",
       "      <th>Statistics</th>\n",
       "      <th>Tableau</th>\n",
       "      <th>TensorFlow</th>\n",
       "    </tr>\n",
       "  </thead>\n",
       "  <tbody>\n",
       "    <tr>\n",
       "      <th>0</th>\n",
       "      <td>219728</td>\n",
       "      <td>122840.684494</td>\n",
       "      <td>219728</td>\n",
       "      <td>3.0</td>\n",
       "      <td>123530.217563</td>\n",
       "      <td>1.0</td>\n",
       "      <td>125832.356129</td>\n",
       "      <td>0</td>\n",
       "      <td>0.0</td>\n",
       "      <td>13</td>\n",
       "      <td>...</td>\n",
       "      <td>0</td>\n",
       "      <td>0</td>\n",
       "      <td>1</td>\n",
       "      <td>1</td>\n",
       "      <td>0</td>\n",
       "      <td>0</td>\n",
       "      <td>0</td>\n",
       "      <td>0</td>\n",
       "      <td>0</td>\n",
       "      <td>0</td>\n",
       "    </tr>\n",
       "    <tr>\n",
       "      <th>1</th>\n",
       "      <td>230237</td>\n",
       "      <td>120265.207778</td>\n",
       "      <td>25326070</td>\n",
       "      <td>3.0</td>\n",
       "      <td>131226.800122</td>\n",
       "      <td>2.0</td>\n",
       "      <td>129660.450729</td>\n",
       "      <td>50</td>\n",
       "      <td>1.0</td>\n",
       "      <td>10</td>\n",
       "      <td>...</td>\n",
       "      <td>0</td>\n",
       "      <td>0</td>\n",
       "      <td>1</td>\n",
       "      <td>0</td>\n",
       "      <td>0</td>\n",
       "      <td>0</td>\n",
       "      <td>0</td>\n",
       "      <td>0</td>\n",
       "      <td>1</td>\n",
       "      <td>0</td>\n",
       "    </tr>\n",
       "    <tr>\n",
       "      <th>2</th>\n",
       "      <td>128890</td>\n",
       "      <td>127497.966009</td>\n",
       "      <td>109557</td>\n",
       "      <td>3.0</td>\n",
       "      <td>122934.071493</td>\n",
       "      <td>0.0</td>\n",
       "      <td>123778.560219</td>\n",
       "      <td>100</td>\n",
       "      <td>1.0</td>\n",
       "      <td>12</td>\n",
       "      <td>...</td>\n",
       "      <td>0</td>\n",
       "      <td>1</td>\n",
       "      <td>0</td>\n",
       "      <td>0</td>\n",
       "      <td>0</td>\n",
       "      <td>1</td>\n",
       "      <td>1</td>\n",
       "      <td>0</td>\n",
       "      <td>0</td>\n",
       "      <td>0</td>\n",
       "    </tr>\n",
       "    <tr>\n",
       "      <th>3</th>\n",
       "      <td>96349</td>\n",
       "      <td>121180.102792</td>\n",
       "      <td>96349</td>\n",
       "      <td>1.0</td>\n",
       "      <td>116306.613681</td>\n",
       "      <td>2.0</td>\n",
       "      <td>117272.316709</td>\n",
       "      <td>50</td>\n",
       "      <td>3.0</td>\n",
       "      <td>2</td>\n",
       "      <td>...</td>\n",
       "      <td>0</td>\n",
       "      <td>0</td>\n",
       "      <td>1</td>\n",
       "      <td>0</td>\n",
       "      <td>0</td>\n",
       "      <td>0</td>\n",
       "      <td>0</td>\n",
       "      <td>0</td>\n",
       "      <td>1</td>\n",
       "      <td>0</td>\n",
       "    </tr>\n",
       "    <tr>\n",
       "      <th>4</th>\n",
       "      <td>63065</td>\n",
       "      <td>121027.372479</td>\n",
       "      <td>53605</td>\n",
       "      <td>0.0</td>\n",
       "      <td>114742.881553</td>\n",
       "      <td>0.0</td>\n",
       "      <td>115660.849752</td>\n",
       "      <td>100</td>\n",
       "      <td>0.0</td>\n",
       "      <td>0</td>\n",
       "      <td>...</td>\n",
       "      <td>0</td>\n",
       "      <td>0</td>\n",
       "      <td>1</td>\n",
       "      <td>1</td>\n",
       "      <td>1</td>\n",
       "      <td>1</td>\n",
       "      <td>0</td>\n",
       "      <td>0</td>\n",
       "      <td>0</td>\n",
       "      <td>0</td>\n",
       "    </tr>\n",
       "  </tbody>\n",
       "</table>\n",
       "<p>5 rows × 49 columns</p>\n",
       "</div>"
      ],
      "text/plain": [
       "   salary_usd      job_title  salary_local  experience_level  \\\n",
       "0      219728  122840.684494        219728               3.0   \n",
       "1      230237  120265.207778      25326070               3.0   \n",
       "2      128890  127497.966009        109557               3.0   \n",
       "3       96349  121180.102792         96349               1.0   \n",
       "4       63065  121027.372479         53605               0.0   \n",
       "\n",
       "   company_location  company_size  employee_residence  remote_ratio  \\\n",
       "0     123530.217563           1.0       125832.356129             0   \n",
       "1     131226.800122           2.0       129660.450729            50   \n",
       "2     122934.071493           0.0       123778.560219           100   \n",
       "3     116306.613681           2.0       117272.316709            50   \n",
       "4     114742.881553           0.0       115660.849752           100   \n",
       "\n",
       "   education_required  years_experience  ...  NLP  PyTorch  Python  R  SQL  \\\n",
       "0                 0.0                13  ...    0        0       1  1    0   \n",
       "1                 1.0                10  ...    0        0       1  0    0   \n",
       "2                 1.0                12  ...    0        1       0  0    0   \n",
       "3                 3.0                 2  ...    0        0       1  0    0   \n",
       "4                 0.0                 0  ...    0        0       1  1    1   \n",
       "\n",
       "   Scala  Spark  Statistics  Tableau  TensorFlow  \n",
       "0      0      0           0        0           0  \n",
       "1      0      0           0        1           0  \n",
       "2      1      1           0        0           0  \n",
       "3      0      0           0        1           0  \n",
       "4      1      0           0        0           0  \n",
       "\n",
       "[5 rows x 49 columns]"
      ]
     },
     "execution_count": 324,
     "metadata": {},
     "output_type": "execute_result"
    }
   ],
   "source": [
    "df = pd.read_csv(\"../data/processed_data.csv\")\n",
    "df.head()"
   ]
  },
  {
   "cell_type": "markdown",
   "id": "54def5f0-2320-46ef-bccf-89162028fb71",
   "metadata": {},
   "source": [
    "Split data on train - test"
   ]
  },
  {
   "cell_type": "code",
   "execution_count": 327,
   "id": "ae133b07-3cfd-4699-a60a-c4bb46fde18f",
   "metadata": {},
   "outputs": [],
   "source": [
    "from sklearn.model_selection import train_test_split"
   ]
  },
  {
   "cell_type": "code",
   "execution_count": 329,
   "id": "18b8b90f-20a3-4280-a8de-d221a0ba4520",
   "metadata": {},
   "outputs": [],
   "source": [
    "X = df.drop('salary_usd', axis = 1)\n",
    "y = df['salary_usd']"
   ]
  },
  {
   "cell_type": "code",
   "execution_count": 331,
   "id": "92020b3b-851c-4ec4-b3ed-733ae169726a",
   "metadata": {},
   "outputs": [],
   "source": [
    "X_train, X_test, y_train, y_test = train_test_split(X, y, test_size=0.33, random_state=42)"
   ]
  },
  {
   "cell_type": "markdown",
   "id": "2f0113c1-4c15-4ce9-b1ab-3e1a57532111",
   "metadata": {},
   "source": [
    "### Raw data"
   ]
  },
  {
   "cell_type": "code",
   "execution_count": 287,
   "id": "24d10336-1bae-44d1-9e14-bee4cdebd4f5",
   "metadata": {},
   "outputs": [],
   "source": [
    "df1 = pd.read_csv(\"../data/raw_data.csv\")"
   ]
  },
  {
   "cell_type": "code",
   "execution_count": 289,
   "id": "4c8a4951-3dbf-4440-ad5d-d530cfbfb11a",
   "metadata": {},
   "outputs": [],
   "source": [
    "X1 = df1.drop('salary_usd', axis = 1)\n",
    "y1 = df1['salary_usd']"
   ]
  },
  {
   "cell_type": "code",
   "execution_count": 291,
   "id": "cf2ec5ec-7e4f-4535-aefc-4edf32f33577",
   "metadata": {},
   "outputs": [],
   "source": [
    "X1_train, X1_test, y1_train, y1_test = train_test_split(X1, y1, test_size=0.33, random_state=42)"
   ]
  },
  {
   "cell_type": "markdown",
   "id": "a57e7939-4d5f-4ce8-b58f-c40b0dfa21f6",
   "metadata": {},
   "source": [
    "### Model Preparation and Comparison\n",
    "\n",
    "Next, I will prepare a modeling pipeline and compare the performance of the following algorithms:\n",
    "\n",
    "\n",
    "- **Support Vector Machine (SVM)**\n",
    "- **Random Forest**\n",
    "- **Adaptive Boosting**\n",
    "- **Gradient Boosting**\n"
   ]
  },
  {
   "cell_type": "code",
   "execution_count": 522,
   "id": "7c7b2761-68b8-45ad-b0ca-ebc4e5fc944e",
   "metadata": {},
   "outputs": [],
   "source": [
    "from sklearn.preprocessing import StandardScaler\n",
    "from sklearn.pipeline import Pipeline\n"
   ]
  },
  {
   "cell_type": "code",
   "execution_count": 524,
   "id": "6287e0e1-549a-4032-ab14-d8e190950f4e",
   "metadata": {},
   "outputs": [],
   "source": [
    "mses = {}"
   ]
  },
  {
   "cell_type": "markdown",
   "id": "44af5ff1-515b-4634-8bbd-4551db45f3ab",
   "metadata": {},
   "source": [
    "## Ensemble Models"
   ]
  },
  {
   "cell_type": "code",
   "execution_count": 527,
   "id": "398412e1-bcd3-45af-a2e6-6876c90c357b",
   "metadata": {},
   "outputs": [],
   "source": [
    "def tree_pred(model, X_train, y_train, X_test): \n",
    "    model.fit(X_train, y_train)\n",
    "    y_pred = model.predict(X_test)\n",
    "    return y_pred"
   ]
  },
  {
   "cell_type": "markdown",
   "id": "e8447dde-c898-470f-9ed6-d9a8da496321",
   "metadata": {},
   "source": [
    "### RandomForestRegressor"
   ]
  },
  {
   "cell_type": "code",
   "execution_count": 530,
   "id": "26f34cc4-e5b6-4f23-8930-182efa98c0d4",
   "metadata": {},
   "outputs": [],
   "source": [
    "from sklearn.ensemble import RandomForestRegressor"
   ]
  },
  {
   "cell_type": "code",
   "execution_count": 532,
   "id": "89a464d9-7c52-4752-bd0e-2f2ab3ac8ea0",
   "metadata": {},
   "outputs": [],
   "source": [
    "rfr = RandomForestRegressor()"
   ]
  },
  {
   "cell_type": "code",
   "execution_count": 534,
   "id": "4ebe9e6d-9358-4a09-9afd-ca9b082ee84e",
   "metadata": {},
   "outputs": [],
   "source": [
    "rfr_pred = tree_pred(rfr,X_train, y_train, X_test)"
   ]
  },
  {
   "cell_type": "markdown",
   "id": "4a7ae1c6-9b13-4f4d-a468-884328e4010d",
   "metadata": {},
   "source": [
    "MSE: "
   ]
  },
  {
   "cell_type": "code",
   "execution_count": 536,
   "id": "3a0d52b9-06bb-4e7e-aeae-fb9c5f9b287b",
   "metadata": {},
   "outputs": [
    {
     "data": {
      "text/plain": [
       "3782705.3573980397"
      ]
     },
     "execution_count": 536,
     "metadata": {},
     "output_type": "execute_result"
    }
   ],
   "source": [
    "rfr_mse = mean_squared_error(y_test, rfr_pred)\n",
    "rfr_mse"
   ]
  },
  {
   "cell_type": "code",
   "execution_count": 537,
   "id": "ec19b8ad-a5e8-424c-bb6f-352fae529882",
   "metadata": {},
   "outputs": [],
   "source": [
    "mses['RandomForestRegressor'] = rfr_mse"
   ]
  },
  {
   "cell_type": "markdown",
   "id": "ca309658-7598-4367-86ad-8167dba80623",
   "metadata": {},
   "source": [
    "### AdaBoost"
   ]
  },
  {
   "cell_type": "code",
   "execution_count": 539,
   "id": "7b3cc180-6971-4ce3-b7dd-cac072acd9a3",
   "metadata": {},
   "outputs": [],
   "source": [
    "from sklearn.ensemble import AdaBoostRegressor"
   ]
  },
  {
   "cell_type": "code",
   "execution_count": 540,
   "id": "a5ae79db-ff24-42d0-8b6d-f6eddbd6a5f2",
   "metadata": {},
   "outputs": [],
   "source": [
    "def abr_pred(X_train, y_train, X_test): \n",
    "    abr = AdaBoostRegressor()\n",
    "    abr.fit(X_train, y_train)\n",
    "    y_pred = abr.predict(X_test)\n",
    "    return y_pred"
   ]
  },
  {
   "cell_type": "code",
   "execution_count": 541,
   "id": "e1463274-4e46-4dd2-8d1e-58ec9ed6d467",
   "metadata": {},
   "outputs": [
    {
     "data": {
      "text/plain": [
       "261844503.57163733"
      ]
     },
     "execution_count": 541,
     "metadata": {},
     "output_type": "execute_result"
    }
   ],
   "source": [
    "y_pred = abr_pred(X_train, y_train, X_test)\n",
    "abr_mse = mean_squared_error(y_test, y_pred)\n",
    "abr_mse"
   ]
  },
  {
   "cell_type": "code",
   "execution_count": 542,
   "id": "9ea858e6-0cff-4c6b-a8aa-eefdb54225ce",
   "metadata": {},
   "outputs": [],
   "source": [
    "mses['AdaBoostRegressor'] = abr_mse"
   ]
  },
  {
   "cell_type": "markdown",
   "id": "5fcf1412-104a-4e39-b8ba-081edd367c3d",
   "metadata": {},
   "source": [
    "### GradientBoost"
   ]
  },
  {
   "cell_type": "code",
   "execution_count": 544,
   "id": "0eb009f7-45e2-4d4b-8ab0-f89883ad04ee",
   "metadata": {},
   "outputs": [],
   "source": [
    "from sklearn.ensemble import GradientBoostingRegressor"
   ]
  },
  {
   "cell_type": "code",
   "execution_count": 545,
   "id": "74868eea-f043-4122-8e65-df6820eb9a31",
   "metadata": {},
   "outputs": [],
   "source": [
    "gbr = GradientBoostingRegressor()"
   ]
  },
  {
   "cell_type": "code",
   "execution_count": 546,
   "id": "cb707fee-957c-4ed7-901f-2aad8abf6e6a",
   "metadata": {},
   "outputs": [],
   "source": [
    "gbr_preds = rfr_pred = tree_pred(gbr,X_train, y_train, X_test)"
   ]
  },
  {
   "cell_type": "code",
   "execution_count": 547,
   "id": "0fedda99-1ca7-47a0-acd5-d95b66f86191",
   "metadata": {},
   "outputs": [
    {
     "data": {
      "text/plain": [
       "48480351.94327863"
      ]
     },
     "execution_count": 547,
     "metadata": {},
     "output_type": "execute_result"
    }
   ],
   "source": [
    "gbr_mse = mean_squared_error(y_test, rfr_pred)\n",
    "gbr_mse"
   ]
  },
  {
   "cell_type": "code",
   "execution_count": 548,
   "id": "f6f58f71-0886-4dc3-aca3-1d4e0ae5e39c",
   "metadata": {},
   "outputs": [],
   "source": [
    "mses['GradientBoostingRegressor'] = gbr_mse"
   ]
  },
  {
   "cell_type": "markdown",
   "id": "4d89d3c4-e295-4f11-8ca8-f38d6a01d1a8",
   "metadata": {},
   "source": [
    "### SVR"
   ]
  },
  {
   "cell_type": "code",
   "execution_count": 550,
   "id": "05981e8f-59d3-47ea-8f33-5264b2697fdf",
   "metadata": {},
   "outputs": [],
   "source": [
    "from sklearn.svm import SVR"
   ]
  },
  {
   "cell_type": "markdown",
   "id": "68a615de-2bc5-4504-a0e8-e61219c311a5",
   "metadata": {},
   "source": [
    "Function that makes data standartization and svr model:"
   ]
  },
  {
   "cell_type": "code",
   "execution_count": 552,
   "id": "852ad958-4dc8-4467-bdb6-ea33325d2995",
   "metadata": {},
   "outputs": [],
   "source": [
    "def svr_preds(X_train, y_train, X_test): \n",
    "    operations = [('scaler',StandardScaler()),('svr',SVR())]\n",
    "    pipe = Pipeline(operations)\n",
    "    pipe.fit(X_train, y_train)\n",
    "    y_pred = pipe.predict(X_test)\n",
    "    return y_pred\n",
    "    "
   ]
  },
  {
   "cell_type": "code",
   "execution_count": 553,
   "id": "ab5253f3-65f1-44ba-aee5-88ad17e1b819",
   "metadata": {},
   "outputs": [],
   "source": [
    "y_pred_svr = svr_preds(X_train, y_train, X_test)"
   ]
  },
  {
   "cell_type": "markdown",
   "id": "814081e6-2587-4c40-88de-cdc4a1a018b2",
   "metadata": {},
   "source": [
    "MSE:"
   ]
  },
  {
   "cell_type": "code",
   "execution_count": 555,
   "id": "8998946f-9735-48b0-abb9-716d62a92970",
   "metadata": {},
   "outputs": [
    {
     "data": {
      "text/plain": [
       "4317029667.6986885"
      ]
     },
     "execution_count": 555,
     "metadata": {},
     "output_type": "execute_result"
    }
   ],
   "source": [
    "svr_mse = mean_squared_error(y_test, y_pred_svr)\n",
    "svr_mse"
   ]
  },
  {
   "cell_type": "code",
   "execution_count": 556,
   "id": "2bb3916b-5e0b-441c-9949-6c3f89ee39b6",
   "metadata": {},
   "outputs": [],
   "source": [
    "mses['SVR'] = svr_mse"
   ]
  },
  {
   "cell_type": "markdown",
   "id": "351cb15f-2a8a-4f55-a2e3-4b6601485549",
   "metadata": {},
   "source": [
    "## MSE Visualization"
   ]
  },
  {
   "cell_type": "code",
   "execution_count": 507,
   "id": "bde7020b-b670-4e46-ac6c-7b5b70c4dd10",
   "metadata": {},
   "outputs": [],
   "source": [
    "def plot_mses(mses):\n",
    "    width = np.arange(len(mses))\n",
    "    ticks = list(mses.index)\n",
    "    plt.barh(ticks, width, color = 'green')"
   ]
  },
  {
   "cell_type": "code",
   "execution_count": 509,
   "id": "4b25447f-1d9d-4d03-8c2a-83a4f685e55c",
   "metadata": {},
   "outputs": [
    {
     "data": {
      "text/plain": [
       "{'SVR': 4317029667.6986885,\n",
       " 'AdaBoostRegressor': 280211910.96925604,\n",
       " 'RandomForestRegressor': 3503852.4675681205,\n",
       " 'GradientBoostingRegressor': 48483677.529936366}"
      ]
     },
     "execution_count": 509,
     "metadata": {},
     "output_type": "execute_result"
    }
   ],
   "source": [
    "mses"
   ]
  },
  {
   "cell_type": "code",
   "execution_count": 511,
   "id": "709264d8-daa9-46bd-813e-ce642abc0ade",
   "metadata": {},
   "outputs": [],
   "source": [
    "mses_temp = pd.Series(mses).sort_values()"
   ]
  },
  {
   "cell_type": "code",
   "execution_count": 513,
   "id": "5e9ca50f-3117-4052-9b47-458598def9b6",
   "metadata": {},
   "outputs": [
    {
     "data": {
      "text/plain": [
       "Text(0.5, 1.0, 'MSE Scores')"
      ]
     },
     "execution_count": 513,
     "metadata": {},
     "output_type": "execute_result"
    },
    {
     "data": {
      "image/png": "[encoded data removed]",
      "text/plain": [
       "<Figure size 1000x500 with 1 Axes>"
      ]
     },
     "metadata": {},
     "output_type": "display_data"
    }
   ],
   "source": [
    "plt.figure(figsize = (10, 5))\n",
    "plot_mses(mses_temp)\n",
    "\n",
    "plt.title(\"MSE Scores\")"
   ]
  },
  {
   "cell_type": "markdown",
   "id": "0ff2238c-7ac4-42e1-aecb-0df85f3c6feb",
   "metadata": {},
   "source": [
    "## Turns out, `Random Forest` is the best model for this dataset"
   ]
  },
  {
   "cell_type": "code",
   "execution_count": null,
   "id": "4468b8a4-0184-43d8-99a4-4d2ca8662117",
   "metadata": {},
   "outputs": [],
   "source": []
  }
 ],
 "metadata": {
  "kernelspec": {
   "display_name": "Python 3 (ipykernel)",
   "language": "python",
   "name": "python3"
  },
  "language_info": {
   "codemirror_mode": {
    "name": "ipython",
    "version": 3
   },
   "file_extension": ".py",
   "mimetype": "text/x-python",
   "name": "python",
   "nbconvert_exporter": "python",
   "pygments_lexer": "ipython3",
   "version": "3.12.4"
  }
 },
 "nbformat": 4,
 "nbformat_minor": 5
}
